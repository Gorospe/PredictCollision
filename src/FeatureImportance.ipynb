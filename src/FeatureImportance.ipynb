{
 "cells": [
  {
   "cell_type": "code",
   "execution_count": 61,
   "metadata": {},
   "outputs": [],
   "source": [
    "import pandas as pd\n",
    "import ClassificatorUtils as cls\n",
    "import matplotlib.pyplot as plt\n",
    "from sklearn.tree import DecisionTreeClassifier\n",
    "from sklearn import tree\n",
    "from sklearn.svm import SVC\n",
    "from sklearn.inspection import permutation_importance\n",
    "from sklearn.model_selection import train_test_split\n",
    "from sklearn.preprocessing import StandardScaler\n",
    "\n"
   ]
  },
  {
   "cell_type": "code",
   "execution_count": 29,
   "metadata": {},
   "outputs": [],
   "source": [
    "\n",
    "csv_path = '../data/ACC.csv'\n",
    "df_acc = pd.read_csv(csv_path)\n",
    "df_acc = df_acc.drop([ 'ID', 'scenario', 'seed', 'Controller', 'numHumanCars', 'BeaconIntervalPlat', 'BeaconIntervalHuman', 'PacketSize', 'waitTime', 'DENMInterval'], axis=1)\n",
    "df_acc = df_acc.dropna()\n",
    "df_acc = df_acc.drop_duplicates()\n",
    "\n",
    "csv_path = '../data/CACC_PLOEG.csv'\n",
    "df = pd.read_csv(csv_path)\n",
    "index_cacc = df.index[df['Controller'] != \"CACC\"].tolist()\n",
    "df_cacc = df.drop(index_cacc)\n",
    "index_ploeg = df.index[df['Controller'] != \"PLOEG\"].tolist()\n",
    "df_ploeg = df.drop(index_ploeg)\n",
    "\n",
    "df_cacc_ploeg = df.drop([ 'ID', 'scenario', 'seed'], axis=1)\n",
    "df_cacc_ploeg = df_cacc_ploeg.dropna()\n",
    "df_cacc_ploeg = df_cacc_ploeg.drop_duplicates()\n",
    "\n",
    "df_cacc = df_cacc.drop([ 'ID', 'scenario', 'seed', 'Controller'], axis=1)\n",
    "df_cacc = df_cacc.dropna()\n",
    "df_cacc = df_cacc.drop_duplicates()\n",
    "\n",
    "df_ploeg = df_ploeg.drop([ 'ID', 'scenario', 'seed', 'Controller'], axis=1)\n",
    "df_ploeg = df_ploeg.dropna()\n",
    "df_ploeg = df_ploeg.drop_duplicates()\n",
    "\n",
    "f_names_acc = ['numPlatCars', 'spdLeader', 'DecelerationRate', 'Ctr_Param(Ploegh||Spacing)']\n",
    "X_acc = df_acc[f_names_acc]\n",
    "y_acc = df_acc['Collision']\n",
    "\n",
    "f_names = ['numPlatCars', 'numHumanCars', 'spdLeader', 'BeaconIntervalPlat', 'BeaconIntervalHuman', 'DENMInterval', 'DecelerationRate', 'PacketSize', 'Ctr_Param(Ploegh||Spacing)', 'waitTime']\n",
    "X_cacc = df_cacc[f_names]\n",
    "y_cacc = df_cacc['Collision']\n",
    "\n",
    "X_ploeg = df_ploeg[f_names]\n",
    "y_ploeg = df_ploeg['Collision']\n",
    "\n",
    "f_names_all = ['Controller', 'numPlatCars', 'numHumanCars', 'spdLeader', 'BeaconIntervalPlat', 'BeaconIntervalHuman', 'DENMInterval', 'DecelerationRate', 'PacketSize', 'Ctr_Param(Ploegh||Spacing)', 'waitTime']\n",
    "X_cacc_ploeg = df_cacc_ploeg[f_names_all]\n",
    "y_cacc_ploeg = df_cacc_ploeg['Collision']\n"
   ]
  },
  {
   "cell_type": "code",
   "execution_count": 48,
   "metadata": {},
   "outputs": [],
   "source": [
    "def test_dec_tree_ploeg(X_train, y_train, X_test, y_test, X_train_std, X_test_std):\n",
    "    leafs = 2\n",
    "    column_names = ['Algorithm', 'Standarised', 'AccTrain', 'Acc', 'Prec', 'Recall', 'TN', 'FP', 'FN', 'TP', 'TimeMed', 'TimeMax', 'TimeMin', 'max_leaf_node']\n",
    "    dt = DecisionTreeClassifier(class_weight=\"balanced\", max_leaf_nodes=leafs).fit(X_train, y_train)\n",
    "    print(cls.algor(dt, X_train_std, y_train, X_test_std, y_test, 'DecisionTree', True, column_names, [leafs]))\n",
    "    return dt\n",
    "\n",
    "def test_dec_tree_cacc(X_train, y_train, X_test, y_test, X_train_std, X_test_std):\n",
    "    leafs = 8#5\n",
    "    column_names = ['Algorithm', 'Standarised', 'AccTrain', 'Acc', 'Prec', 'Recall', 'TN', 'FP', 'FN', 'TP', 'TimeMed', 'TimeMax', 'TimeMin', 'max_leaf_node']\n",
    "    dt = DecisionTreeClassifier(class_weight=\"balanced\", max_leaf_nodes=leafs).fit(X_train, y_train)\n",
    "    print(cls.algor(dt, X_train_std, y_train, X_test_std, y_test, 'DecisionTree', True, column_names, [leafs]))\n",
    "    return dt\n",
    "\n",
    "def test_dec_tree_acc(X_train, y_train, X_test, y_test, X_train_std, X_test_std):\n",
    "    leafs = 45\n",
    "    column_names = ['Algorithm', 'Standarised', 'AccTrain', 'Acc', 'Prec', 'Recall', 'TN', 'FP', 'FN', 'TP', 'TimeMed', 'TimeMax', 'TimeMin', 'max_leaf_node']\n",
    "    dt = DecisionTreeClassifier(class_weight=\"balanced\", max_leaf_nodes=leafs).fit(X_train, y_train)\n",
    "    print(cls.algor(dt, X_train_std, y_train, X_test_std, y_test, 'DecisionTree', True, column_names, [leafs]))\n",
    "    return dt"
   ]
  },
  {
   "cell_type": "markdown",
   "metadata": {},
   "source": [
    "# CART Classification Feature Importance (DT)"
   ]
  },
  {
   "cell_type": "code",
   "execution_count": 67,
   "metadata": {},
   "outputs": [
    {
     "name": "stdout",
     "output_type": "stream",
     "text": [
      "      Algorithm  Standarised  AccTrain       Acc      Prec    Recall    TN  \\\n",
      "0  DecisionTree         True  0.974965  0.966639  0.785714  0.993056  1016   \n",
      "\n",
      "   FP  FN   TP   TimeMed   TimeMax   TimeMin  max_leaf_node  \n",
      "0  39   1  143  0.000099  0.001116  0.000054             45  \n",
      "Feature: numPlatCars, Score: 0.06927\n",
      "Feature: spdLeader, Score: 0.07528\n",
      "Feature: DecelerationRate, Score: 0.51494\n",
      "Feature: Ctr_Param(Ploegh||Spacing), Score: 0.34051\n"
     ]
    },
    {
     "data": {
      "image/png": "[encoded data removed]",
      "text/plain": [
       "<Figure size 432x288 with 1 Axes>"
      ]
     },
     "metadata": {
      "needs_background": "light"
     },
     "output_type": "display_data"
    }
   ],
   "source": [
    "dt = cls.test_algorithms(X_acc, y_acc, test_dec_tree_acc)\n",
    "\n",
    "importance = dt.feature_importances_\n",
    "# summarize feature importance\n",
    "for i,v in enumerate(importance):\n",
    "\tprint('Feature: %s, Score: %.5f' % (f_names_acc[i],v))\n",
    "# plot feature importance\n",
    "plt.barh(f_names_acc, importance)\n",
    "plt.show()\n",
    "\n",
    "text_representation = tree.export_text(dt, feature_names=f_names_acc)\n",
    "with open(\"../results/DT_ACC.log\", \"w\") as fout:\n",
    "    fout.write(text_representation)\n"
   ]
  },
  {
   "cell_type": "code",
   "execution_count": 68,
   "metadata": {},
   "outputs": [
    {
     "name": "stdout",
     "output_type": "stream",
     "text": [
      "      Algorithm  Standarised  AccTrain       Acc      Prec    Recall   TN  FP  \\\n",
      "0  DecisionTree         True  0.821285  0.844311  0.410256  0.842105  125  23   \n",
      "\n",
      "   FN  TP   TimeMed   TimeMax   TimeMin  max_leaf_node  \n",
      "0   3  16  0.000082  0.000641  0.000049              8  \n",
      "Feature: numPlatCars, Score: 0.00000\n",
      "Feature: numHumanCars, Score: 0.12053\n",
      "Feature: spdLeader, Score: 0.68284\n",
      "Feature: BeaconIntervalPlat, Score: 0.00000\n",
      "Feature: BeaconIntervalHuman, Score: 0.00000\n",
      "Feature: DENMInterval, Score: 0.09568\n",
      "Feature: DecelerationRate, Score: 0.00000\n",
      "Feature: PacketSize, Score: 0.00000\n",
      "Feature: Ctr_Param(Ploegh||Spacing), Score: 0.00000\n",
      "Feature: waitTime, Score: 0.10095\n"
     ]
    },
    {
     "data": {
      "image/png": "[encoded data removed]",
      "text/plain": [
       "<Figure size 432x288 with 1 Axes>"
      ]
     },
     "metadata": {
      "needs_background": "light"
     },
     "output_type": "display_data"
    }
   ],
   "source": [
    "dt = cls.test_algorithms(X_cacc, y_cacc, test_dec_tree_cacc)\n",
    "\n",
    "importance = dt.feature_importances_\n",
    "# summarize feature importance\n",
    "for i,v in enumerate(importance):\n",
    "\tprint('Feature: %s, Score: %.5f' % (f_names[i],v))\n",
    "# plot feature importance\n",
    "plt.barh(f_names, importance)\n",
    "plt.show()\n",
    "\n",
    "text_representation = tree.export_text(dt, feature_names=f_names)\n",
    "with open(\"../results/DT_CACC.log\", \"w\") as fout:\n",
    "    fout.write(text_representation)"
   ]
  },
  {
   "cell_type": "code",
   "execution_count": 69,
   "metadata": {},
   "outputs": [
    {
     "name": "stdout",
     "output_type": "stream",
     "text": [
      "      Algorithm  Standarised  AccTrain      Acc      Prec    Recall  TN  FP  \\\n",
      "0  DecisionTree         True    0.9325  0.91791  0.868421  0.846154  90   5   \n",
      "\n",
      "   FN  TP   TimeMed  TimeMax   TimeMin  max_leaf_node  \n",
      "0   6  33  0.000096  0.00128  0.000052              2  \n",
      "Feature: numPlatCars, Score: 0.00000\n",
      "Feature: numHumanCars, Score: 0.00000\n",
      "Feature: spdLeader, Score: 0.00000\n",
      "Feature: BeaconIntervalPlat, Score: 0.00000\n",
      "Feature: BeaconIntervalHuman, Score: 1.00000\n",
      "Feature: DENMInterval, Score: 0.00000\n",
      "Feature: DecelerationRate, Score: 0.00000\n",
      "Feature: PacketSize, Score: 0.00000\n",
      "Feature: Ctr_Param(Ploegh||Spacing), Score: 0.00000\n",
      "Feature: waitTime, Score: 0.00000\n"
     ]
    },
    {
     "data": {
      "image/png": "[encoded data removed]",
      "text/plain": [
       "<Figure size 432x288 with 1 Axes>"
      ]
     },
     "metadata": {
      "needs_background": "light"
     },
     "output_type": "display_data"
    }
   ],
   "source": [
    "dt = cls.test_algorithms(X_ploeg, y_ploeg, test_dec_tree_ploeg)\n",
    "\n",
    "importance = dt.feature_importances_\n",
    "# summarize feature importance\n",
    "for i,v in enumerate(importance):\n",
    "\tprint('Feature: %s, Score: %.5f' % (f_names[i],v))\n",
    "# plot feature importance\n",
    "plt.barh(f_names, importance)\n",
    "plt.show()\n",
    "\n",
    "text_representation = tree.export_text(dt, feature_names=f_names)\n",
    "with open(\"../results/DT_PLOEG.log\", \"w\") as fout:\n",
    "    fout.write(text_representation)"
   ]
  },
  {
   "cell_type": "markdown",
   "metadata": {},
   "source": [
    "# Permutation importance for feature evaluation (SVC)"
   ]
  },
  {
   "cell_type": "code",
   "execution_count": 70,
   "metadata": {},
   "outputs": [],
   "source": [
    "def test_svm(X_train, y_train, X_test, y_test, X_train_std, X_test_std):\n",
    "    column_names = ['Algorithm', 'Standarised', 'AccTrain', 'Acc', 'Prec', 'Recall', 'TN', 'FP', 'FN', 'TP', 'TimeMed', 'TimeMax', 'TimeMin']\n",
    "    svm = SVC(class_weight=\"balanced\")\n",
    "    print(cls.algor(svm, X_train_std, y_train, X_test_std, y_test, 'SVC', True, column_names))\n",
    "    return svm\n",
    "\n",
    "def f_importances(coef, names):\n",
    "    imp = coef\n",
    "    imp,names = zip(*sorted(zip(imp,names)))\n",
    "    plt.barh(range(len(names)), imp, align='center')\n",
    "    plt.yticks(range(len(names)), names)\n",
    "    plt.show()\n",
    "\n",
    "def permutation(X, y, svm):\n",
    "    X_train, X_test, y_train, y_test = train_test_split(X, y, random_state=0)\n",
    "    nan_elems = y_test.isnull()\n",
    "    y_test = y_test[~nan_elems]\n",
    "    X_test = X_test[~nan_elems]\n",
    "    y_train = y_train.astype(bool)\n",
    "    y_test = y_test.astype(bool)\n",
    "\n",
    "    scaler = StandardScaler()\n",
    "    X_train_std = scaler.fit_transform(X_train)\n",
    "    X_test_std = scaler.transform(X_test)\n",
    "\n",
    "    result = permutation_importance(svm, X_test_std, y_test)\n",
    " \n",
    "    return result"
   ]
  },
  {
   "cell_type": "code",
   "execution_count": 77,
   "metadata": {},
   "outputs": [
    {
     "name": "stdout",
     "output_type": "stream",
     "text": [
      "  Algorithm  Standarised  AccTrain       Acc      Prec    Recall   TN  FP  FN  \\\n",
      "0       SVC         True   0.92573  0.918265  0.596639  0.986111  959  96   2   \n",
      "\n",
      "    TP   TimeMed   TimeMax   TimeMin  \n",
      "0  142  0.000332  0.003226  0.000162  \n",
      "[0.0148457  0.02268557 0.13327773 0.12076731]\n"
     ]
    },
    {
     "data": {
      "text/plain": [
       "Text(0.5, 0, 'Permutation Importance')"
      ]
     },
     "execution_count": 77,
     "metadata": {},
     "output_type": "execute_result"
    },
    {
     "data": {
      "image/png": "[encoded data removed]",
      "text/plain": [
       "<Figure size 432x288 with 1 Axes>"
      ]
     },
     "metadata": {
      "needs_background": "light"
     },
     "output_type": "display_data"
    }
   ],
   "source": [
    "svm = cls.test_algorithms(X_acc, y_acc, test_svm)\n",
    "\n",
    "perm_importance = permutation(X_acc, y_acc, svm)\n",
    "\n",
    "sorted_idx = perm_importance.importances_mean.argsort()\n",
    "print(perm_importance.importances_mean)\n",
    "plt.barh(f_names_acc, perm_importance.importances_mean)\n",
    "plt.xlabel(\"Permutation Importance\")"
   ]
  },
  {
   "cell_type": "code",
   "execution_count": 78,
   "metadata": {},
   "outputs": [
    {
     "name": "stdout",
     "output_type": "stream",
     "text": [
      "  Algorithm  Standarised  AccTrain       Acc     Prec    Recall   TN  FP  FN  \\\n",
      "0       SVC         True  0.875502  0.850299  0.40625  0.684211  129  19   6   \n",
      "\n",
      "   TP   TimeMed   TimeMax   TimeMin  \n",
      "0  13  0.000237  0.001887  0.000118  \n",
      "[-1.07784431e-02  1.07784431e-02  1.28143713e-01 -5.98802395e-03\n",
      " -2.39520958e-03 -5.98802395e-03 -9.58083832e-03  3.59281437e-03\n",
      "  4.44089210e-17 -1.19760479e-03]\n"
     ]
    },
    {
     "data": {
      "text/plain": [
       "Text(0.5, 0, 'Permutation Importance')"
      ]
     },
     "execution_count": 78,
     "metadata": {},
     "output_type": "execute_result"
    },
    {
     "data": {
      "image/png": "[encoded data removed]",
      "text/plain": [
       "<Figure size 432x288 with 1 Axes>"
      ]
     },
     "metadata": {
      "needs_background": "light"
     },
     "output_type": "display_data"
    }
   ],
   "source": [
    "svm = cls.test_algorithms(X_cacc, y_cacc, test_svm)\n",
    "\n",
    "perm_importance = permutation(X_cacc, y_cacc, svm)\n",
    "\n",
    "sorted_idx = perm_importance.importances_mean.argsort()\n",
    "print(perm_importance.importances_mean)\n",
    "plt.barh(f_names, perm_importance.importances_mean)\n",
    "plt.xlabel(\"Permutation Importance\")"
   ]
  },
  {
   "cell_type": "code",
   "execution_count": 76,
   "metadata": {},
   "outputs": [
    {
     "name": "stdout",
     "output_type": "stream",
     "text": [
      "  Algorithm  Standarised  AccTrain       Acc      Prec    Recall  TN  FP  FN  \\\n",
      "0       SVC         True     0.935  0.925373  0.871795  0.871795  90   5   5   \n",
      "\n",
      "   TP   TimeMed   TimeMax   TimeMin  \n",
      "0  34  0.000223  0.001848  0.000116  \n",
      "[0.00597015 0.00447761 0.00746269 0.00149254 0.16119403 0.00149254\n",
      " 0.00149254 0.00149254 0.00298507 0.        ]\n"
     ]
    },
    {
     "data": {
      "text/plain": [
       "Text(0.5, 0, 'Permutation Importance')"
      ]
     },
     "execution_count": 76,
     "metadata": {},
     "output_type": "execute_result"
    },
    {
     "data": {
      "image/png": "[encoded data removed]",
      "text/plain": [
       "<Figure size 432x288 with 1 Axes>"
      ]
     },
     "metadata": {
      "needs_background": "light"
     },
     "output_type": "display_data"
    }
   ],
   "source": [
    "svm = cls.test_algorithms(X_ploeg, y_ploeg, test_svm)\n",
    "\n",
    "perm_importance = permutation(X_ploeg, y_ploeg, svm)\n",
    "\n",
    "sorted_idx = perm_importance.importances_mean.argsort()\n",
    "print(perm_importance.importances_mean)\n",
    "plt.barh(f_names, perm_importance.importances_mean)\n",
    "plt.xlabel(\"Permutation Importance\")"
   ]
  },
  {
   "cell_type": "code",
   "execution_count": null,
   "metadata": {},
   "outputs": [],
   "source": []
  }
 ],
 "metadata": {
  "kernelspec": {
   "display_name": "Python 3.8.2 64-bit",
   "language": "python",
   "name": "python3"
  },
  "language_info": {
   "codemirror_mode": {
    "name": "ipython",
    "version": 3
   },
   "file_extension": ".py",
   "mimetype": "text/x-python",
   "name": "python",
   "nbconvert_exporter": "python",
   "pygments_lexer": "ipython3",
   "version": "3.8.2"
  },
  "orig_nbformat": 4,
  "vscode": {
   "interpreter": {
    "hash": "916dbcbb3f70747c44a77c7bcd40155683ae19c65e1c03b4aa3499c5328201f1"
   }
  }
 },
 "nbformat": 4,
 "nbformat_minor": 2
}
