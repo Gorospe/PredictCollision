{
 "cells": [
  {
   "cell_type": "code",
   "execution_count": 35,
   "metadata": {},
   "outputs": [],
   "source": [
    "import pandas as pd\n",
    "import ClassificatorUtils as cls\n",
    "import matplotlib.pyplot as plt\n",
    "from sklearn.tree import DecisionTreeClassifier\n",
    "from sklearn import tree\n"
   ]
  },
  {
   "cell_type": "code",
   "execution_count": 29,
   "metadata": {},
   "outputs": [],
   "source": [
    "\n",
    "csv_path = '../data/ACC.csv'\n",
    "df_acc = pd.read_csv(csv_path)\n",
    "df_acc = df_acc.drop([ 'ID', 'scenario', 'seed', 'Controller', 'numHumanCars', 'BeaconIntervalPlat', 'BeaconIntervalHuman', 'PacketSize', 'waitTime', 'DENMInterval'], axis=1)\n",
    "df_acc = df_acc.dropna()\n",
    "df_acc = df_acc.drop_duplicates()\n",
    "\n",
    "csv_path = '../data/CACC_PLOEG.csv'\n",
    "df = pd.read_csv(csv_path)\n",
    "index_cacc = df.index[df['Controller'] != \"CACC\"].tolist()\n",
    "df_cacc = df.drop(index_cacc)\n",
    "index_ploeg = df.index[df['Controller'] != \"PLOEG\"].tolist()\n",
    "df_ploeg = df.drop(index_ploeg)\n",
    "\n",
    "df_cacc_ploeg = df.drop([ 'ID', 'scenario', 'seed'], axis=1)\n",
    "df_cacc_ploeg = df_cacc_ploeg.dropna()\n",
    "df_cacc_ploeg = df_cacc_ploeg.drop_duplicates()\n",
    "\n",
    "df_cacc = df_cacc.drop([ 'ID', 'scenario', 'seed', 'Controller'], axis=1)\n",
    "df_cacc = df_cacc.dropna()\n",
    "df_cacc = df_cacc.drop_duplicates()\n",
    "\n",
    "df_ploeg = df_ploeg.drop([ 'ID', 'scenario', 'seed', 'Controller'], axis=1)\n",
    "df_ploeg = df_ploeg.dropna()\n",
    "df_ploeg = df_ploeg.drop_duplicates()\n",
    "\n",
    "f_names_acc = ['numPlatCars', 'spdLeader', 'DecelerationRate', 'Ctr_Param(Ploegh||Spacing)']\n",
    "X_acc = df_acc[f_names_acc]\n",
    "y_acc = df_acc['Collision']\n",
    "\n",
    "f_names = ['numPlatCars', 'numHumanCars', 'spdLeader', 'BeaconIntervalPlat', 'BeaconIntervalHuman', 'DENMInterval', 'DecelerationRate', 'PacketSize', 'Ctr_Param(Ploegh||Spacing)', 'waitTime']\n",
    "X_cacc = df_cacc[f_names]\n",
    "y_cacc = df_cacc['Collision']\n",
    "\n",
    "X_ploeg = df_ploeg[f_names]\n",
    "y_ploeg = df_ploeg['Collision']\n",
    "\n",
    "f_names_all = ['Controller', 'numPlatCars', 'numHumanCars', 'spdLeader', 'BeaconIntervalPlat', 'BeaconIntervalHuman', 'DENMInterval', 'DecelerationRate', 'PacketSize', 'Ctr_Param(Ploegh||Spacing)', 'waitTime']\n",
    "X_cacc_ploeg = df_cacc_ploeg[f_names_all]\n",
    "y_cacc_ploeg = df_cacc_ploeg['Collision']\n"
   ]
  },
  {
   "cell_type": "code",
   "execution_count": 30,
   "metadata": {},
   "outputs": [],
   "source": [
    "def test_dec_tree_ploeg(X_train, y_train, X_test, y_test, X_train_std, X_test_std):\n",
    "    leafs = 2\n",
    "    column_names = ['Algorithm', 'Standarised', 'AccTrain', 'Acc', 'Prec', 'Recall', 'TN', 'FP', 'FN', 'TP', 'TimeMed', 'TimeMax', 'TimeMin', 'max_leaf_node']\n",
    "    dt = DecisionTreeClassifier(class_weight=\"balanced\", max_leaf_nodes=leafs).fit(X_train, y_train)\n",
    "    cls.algor(dt, X_train_std, y_train, X_test_std, y_test, 'DecisionTree', True, column_names, [leafs])\n",
    "    return dt\n",
    "\n",
    "def test_dec_tree_cacc(X_train, y_train, X_test, y_test, X_train_std, X_test_std):\n",
    "    leafs = 8\n",
    "    column_names = ['Algorithm', 'Standarised', 'AccTrain', 'Acc', 'Prec', 'Recall', 'TN', 'FP', 'FN', 'TP', 'TimeMed', 'TimeMax', 'TimeMin', 'max_leaf_node']\n",
    "    dt = DecisionTreeClassifier(class_weight=\"balanced\", max_leaf_nodes=leafs).fit(X_train, y_train)\n",
    "    cls.algor(dt, X_train_std, y_train, X_test_std, y_test, 'DecisionTree', True, column_names, [leafs])\n",
    "    return dt\n",
    "\n",
    "def test_dec_tree_acc(X_train, y_train, X_test, y_test, X_train_std, X_test_std):\n",
    "    leafs = 45\n",
    "    column_names = ['Algorithm', 'Standarised', 'AccTrain', 'Acc', 'Prec', 'Recall', 'TN', 'FP', 'FN', 'TP', 'TimeMed', 'TimeMax', 'TimeMin', 'max_leaf_node']\n",
    "    dt = DecisionTreeClassifier(class_weight=\"balanced\", max_leaf_nodes=leafs).fit(X_train, y_train)\n",
    "    cls.algor(dt, X_train_std, y_train, X_test_std, y_test, 'DecisionTree', True, column_names, [leafs])\n",
    "    return dt"
   ]
  },
  {
   "cell_type": "code",
   "execution_count": 40,
   "metadata": {},
   "outputs": [
    {
     "name": "stdout",
     "output_type": "stream",
     "text": [
      "Feature: numPlatCars, Score: 0.06927\n",
      "Feature: spdLeader, Score: 0.07528\n",
      "Feature: DecelerationRate, Score: 0.51494\n",
      "Feature: Ctr_Param(Ploegh||Spacing), Score: 0.34051\n"
     ]
    },
    {
     "data": {
      "image/png": "[encoded data removed]",
      "text/plain": [
       "<Figure size 432x288 with 1 Axes>"
      ]
     },
     "metadata": {
      "needs_background": "light"
     },
     "output_type": "display_data"
    }
   ],
   "source": [
    "dt = cls.test_algorithms(X_acc, y_acc, test_dec_tree_acc)\n",
    "\n",
    "importance = dt.feature_importances_\n",
    "# summarize feature importance\n",
    "for i,v in enumerate(importance):\n",
    "\tprint('Feature: %s, Score: %.5f' % (f_names_acc[i],v))\n",
    "# plot feature importance\n",
    "plt.bar(f_names_acc, importance)\n",
    "plt.show()\n",
    "\n",
    "text_representation = tree.export_text(dt, feature_names=f_names_acc)\n",
    "with open(\"../results/DT_ACC.log\", \"w\") as fout:\n",
    "    fout.write(text_representation)\n"
   ]
  },
  {
   "cell_type": "code",
   "execution_count": 41,
   "metadata": {},
   "outputs": [
    {
     "name": "stdout",
     "output_type": "stream",
     "text": [
      "Feature: numPlatCars, Score: 0.00000\n",
      "Feature: numHumanCars, Score: 0.12053\n",
      "Feature: spdLeader, Score: 0.68284\n",
      "Feature: BeaconIntervalPlat, Score: 0.00000\n",
      "Feature: BeaconIntervalHuman, Score: 0.00000\n",
      "Feature: DENMInterval, Score: 0.09568\n",
      "Feature: DecelerationRate, Score: 0.00000\n",
      "Feature: PacketSize, Score: 0.00000\n",
      "Feature: Ctr_Param(Ploegh||Spacing), Score: 0.00000\n",
      "Feature: waitTime, Score: 0.10095\n"
     ]
    },
    {
     "data": {
      "image/png": "[encoded data removed]",
      "text/plain": [
       "<Figure size 432x288 with 1 Axes>"
      ]
     },
     "metadata": {
      "needs_background": "light"
     },
     "output_type": "display_data"
    }
   ],
   "source": [
    "dt = cls.test_algorithms(X_cacc, y_cacc, test_dec_tree_cacc)\n",
    "\n",
    "importance = dt.feature_importances_\n",
    "# summarize feature importance\n",
    "for i,v in enumerate(importance):\n",
    "\tprint('Feature: %s, Score: %.5f' % (f_names[i],v))\n",
    "# plot feature importance\n",
    "plt.bar(f_names, importance)\n",
    "plt.show()\n",
    "\n",
    "text_representation = tree.export_text(dt, feature_names=f_names)\n",
    "with open(\"../results/DT_CACC.log\", \"w\") as fout:\n",
    "    fout.write(text_representation)"
   ]
  },
  {
   "cell_type": "code",
   "execution_count": 42,
   "metadata": {},
   "outputs": [
    {
     "name": "stdout",
     "output_type": "stream",
     "text": [
      "Feature: numPlatCars, Score: 0.00000\n",
      "Feature: numHumanCars, Score: 0.00000\n",
      "Feature: spdLeader, Score: 0.00000\n",
      "Feature: BeaconIntervalPlat, Score: 0.00000\n",
      "Feature: BeaconIntervalHuman, Score: 1.00000\n",
      "Feature: DENMInterval, Score: 0.00000\n",
      "Feature: DecelerationRate, Score: 0.00000\n",
      "Feature: PacketSize, Score: 0.00000\n",
      "Feature: Ctr_Param(Ploegh||Spacing), Score: 0.00000\n",
      "Feature: waitTime, Score: 0.00000\n"
     ]
    },
    {
     "data": {
      "image/png": "[encoded data removed]",
      "text/plain": [
       "<Figure size 432x288 with 1 Axes>"
      ]
     },
     "metadata": {
      "needs_background": "light"
     },
     "output_type": "display_data"
    }
   ],
   "source": [
    "dt = cls.test_algorithms(X_ploeg, y_ploeg, test_dec_tree_ploeg)\n",
    "\n",
    "importance = dt.feature_importances_\n",
    "# summarize feature importance\n",
    "for i,v in enumerate(importance):\n",
    "\tprint('Feature: %s, Score: %.5f' % (f_names[i],v))\n",
    "# plot feature importance\n",
    "plt.bar(f_names, importance)\n",
    "plt.show()\n",
    "\n",
    "text_representation = tree.export_text(dt, feature_names=f_names)\n",
    "with open(\"../results/DT_PLOEG.log\", \"w\") as fout:\n",
    "    fout.write(text_representation)"
   ]
  },
  {
   "cell_type": "code",
   "execution_count": null,
   "metadata": {},
   "outputs": [],
   "source": []
  }
 ],
 "metadata": {
  "kernelspec": {
   "display_name": "Python 3.8.2 64-bit",
   "language": "python",
   "name": "python3"
  },
  "language_info": {
   "codemirror_mode": {
    "name": "ipython",
    "version": 3
   },
   "file_extension": ".py",
   "mimetype": "text/x-python",
   "name": "python",
   "nbconvert_exporter": "python",
   "pygments_lexer": "ipython3",
   "version": "3.8.2"
  },
  "orig_nbformat": 4,
  "vscode": {
   "interpreter": {
    "hash": "916dbcbb3f70747c44a77c7bcd40155683ae19c65e1c03b4aa3499c5328201f1"
   }
  }
 },
 "nbformat": 4,
 "nbformat_minor": 2
}
